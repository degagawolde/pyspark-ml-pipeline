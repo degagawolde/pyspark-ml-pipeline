{
 "cells": [
  {
   "cell_type": "code",
   "execution_count": 1,
   "metadata": {},
   "outputs": [
    {
     "name": "stdout",
     "output_type": "stream",
     "text": [
      "22/12/08 15:10:41 WARN Utils: Your hostname, users-MacBook-Pro.local resolves to a loopback address: 127.0.0.1; using 192.168.0.203 instead (on interface en0)\n",
      "22/12/08 15:10:41 WARN Utils: Set SPARK_LOCAL_IP if you need to bind to another address\n"
     ]
    },
    {
     "name": "stderr",
     "output_type": "stream",
     "text": [
      "Setting default log level to \"WARN\".\n",
      "To adjust logging level use sc.setLogLevel(newLevel). For SparkR, use setLogLevel(newLevel).\n"
     ]
    },
    {
     "name": "stdout",
     "output_type": "stream",
     "text": [
      "22/12/08 15:10:42 WARN NativeCodeLoader: Unable to load native-hadoop library for your platform... using builtin-java classes where applicable\n"
     ]
    }
   ],
   "source": [
    "import pyspark as spark\n",
    "from pyspark.sql import SparkSession\n",
    "\n",
    "spark = SparkSession.builder\\\n",
    "    .appName(\"Python Spark SQL basic example\")\\\n",
    "    .config(\"spark.some.config.option\", \"some-value\")\\\n",
    "    .getOrCreate()"
   ]
  },
  {
   "cell_type": "markdown",
   "metadata": {},
   "source": [
    "# Read CSV Data"
   ]
  },
  {
   "cell_type": "code",
   "execution_count": 2,
   "metadata": {},
   "outputs": [
    {
     "name": "stdout",
     "output_type": "stream",
     "text": [
      "root\n",
      " |-- Batsman: string (nullable = true)\n",
      " |-- Batsman_Name: string (nullable = true)\n",
      " |-- Bowler: string (nullable = true)\n",
      " |-- Bowler_Name: string (nullable = true)\n",
      " |-- Commentary: string (nullable = true)\n",
      " |-- Detail: string (nullable = true)\n",
      " |-- Dismissed: string (nullable = true)\n",
      " |-- Id: string (nullable = true)\n",
      " |-- Isball: string (nullable = true)\n",
      " |-- Isboundary: string (nullable = true)\n",
      " |-- Iswicket: string (nullable = true)\n",
      " |-- Over: string (nullable = true)\n",
      " |-- Runs: string (nullable = true)\n",
      " |-- Timestamp: string (nullable = true)\n",
      "\n"
     ]
    }
   ],
   "source": [
    "# read a csv file\n",
    "my_data = spark.read.csv('../data/ind-ban-comment.csv',header=True)\n",
    "\n",
    "# see the default schema of the dataframe\n",
    "my_data.printSchema()"
   ]
  },
  {
   "cell_type": "markdown",
   "metadata": {},
   "source": [
    "# Defining the Schema"
   ]
  },
  {
   "cell_type": "code",
   "execution_count": 4,
   "metadata": {},
   "outputs": [
    {
     "name": "stdout",
     "output_type": "stream",
     "text": [
      "root\n",
      " |-- Batsman: integer (nullable = true)\n",
      " |-- Batsman_Name: string (nullable = true)\n",
      " |-- Bowler: integer (nullable = true)\n",
      " |-- Bowler_Name: string (nullable = true)\n",
      " |-- Commentary: string (nullable = true)\n",
      " |-- Detail: string (nullable = true)\n",
      " |-- Dismissed: integer (nullable = true)\n",
      " |-- Id: integer (nullable = true)\n",
      " |-- Isball: boolean (nullable = true)\n",
      " |-- Isboundary: binary (nullable = true)\n",
      " |-- Iswicket: binary (nullable = true)\n",
      " |-- Over: double (nullable = true)\n",
      " |-- Runs: integer (nullable = true)\n",
      " |-- Timestamp: timestamp (nullable = true)\n",
      "\n"
     ]
    }
   ],
   "source": [
    "import pyspark.sql.types as tp\n",
    "\n",
    "# define the schema\n",
    "my_schema = tp.StructType([\n",
    "    tp.StructField(name= 'Batsman',      dataType= tp.IntegerType(),   nullable= True),\n",
    "    tp.StructField(name= 'Batsman_Name', dataType= tp.StringType(),    nullable= True),\n",
    "    tp.StructField(name= 'Bowler',       dataType= tp.IntegerType(),   nullable= True),\n",
    "    tp.StructField(name= 'Bowler_Name',  dataType= tp.StringType(),    nullable= True),\n",
    "    tp.StructField(name= 'Commentary',   dataType= tp.StringType(),    nullable= True),\n",
    "    tp.StructField(name= 'Detail',       dataType= tp.StringType(),    nullable= True),\n",
    "    tp.StructField(name= 'Dismissed',    dataType= tp.IntegerType(),   nullable= True),\n",
    "    tp.StructField(name= 'Id',           dataType= tp.IntegerType(),   nullable= True),\n",
    "    tp.StructField(name= 'Isball',       dataType= tp.BooleanType(),   nullable= True),\n",
    "    tp.StructField(name= 'Isboundary',   dataType= tp.BinaryType(),   nullable= True),\n",
    "    tp.StructField(name= 'Iswicket',     dataType= tp.BinaryType(),   nullable= True),\n",
    "    tp.StructField(name= 'Over',         dataType= tp.DoubleType(),    nullable= True),\n",
    "    tp.StructField(name= 'Runs',         dataType= tp.IntegerType(),   nullable= True),\n",
    "    tp.StructField(name= 'Timestamp',    dataType= tp.TimestampType(), nullable= True)    \n",
    "])\n",
    "\n",
    "# read the data again with the defined schema\n",
    "my_data = spark.read.csv('../data/ind-ban-comment.csv',schema= my_schema,header= True)\n",
    "\n",
    "# print the schema\n",
    "my_data.printSchema()\n"
   ]
  },
  {
   "cell_type": "markdown",
   "metadata": {},
   "source": [
    "# Drop columns from the data"
   ]
  },
  {
   "cell_type": "code",
   "execution_count": 5,
   "metadata": {},
   "outputs": [
    {
     "data": {
      "text/plain": [
       "['Batsman_Name',\n",
       " 'Bowler_Name',\n",
       " 'Commentary',\n",
       " 'Detail',\n",
       " 'Dismissed',\n",
       " 'Isball',\n",
       " 'Isboundary',\n",
       " 'Iswicket',\n",
       " 'Over',\n",
       " 'Runs',\n",
       " 'Timestamp']"
      ]
     },
     "execution_count": 5,
     "metadata": {},
     "output_type": "execute_result"
    }
   ],
   "source": [
    "# drop the columns that are not required\n",
    "my_data = my_data.drop(*['Batsman', 'Bowler', 'Id'])\n",
    "my_data.columns"
   ]
  },
  {
   "cell_type": "markdown",
   "metadata": {},
   "source": [
    "# Data Exploration using PySpark\n",
    "- Check the Data Dimensions"
   ]
  },
  {
   "cell_type": "code",
   "execution_count": 6,
   "metadata": {},
   "outputs": [
    {
     "data": {
      "text/plain": [
       "(605, 11)"
      ]
     },
     "execution_count": 6,
     "metadata": {},
     "output_type": "execute_result"
    }
   ],
   "source": [
    "# get the dimensions of the data\n",
    "(my_data.count() , len(my_data.columns))\n",
    "# >> (605, 11)"
   ]
  },
  {
   "cell_type": "code",
   "execution_count": 7,
   "metadata": {},
   "outputs": [
    {
     "name": "stdout",
     "output_type": "stream",
     "text": [
      "+-------+------------------+\n",
      "|summary|              Runs|\n",
      "+-------+------------------+\n",
      "|  count|               605|\n",
      "|   mean|0.9917355371900827|\n",
      "| stddev| 1.342725481259329|\n",
      "|    min|                 0|\n",
      "|    max|                 6|\n",
      "+-------+------------------+\n",
      "\n"
     ]
    }
   ],
   "source": [
    "# get the summary of the numerical columns\n",
    "my_data.select('Isball', 'Isboundary', 'Runs').describe().show()"
   ]
  },
  {
   "cell_type": "code",
   "execution_count": 14,
   "metadata": {},
   "outputs": [],
   "source": [
    "# import sql function pyspark\n",
    "import pyspark.sql.functions as f\n",
    "\n",
    "# null values in each column\n",
    "data_agg = my_data.agg(*[f.count(f.when(f.isnull(c), c)).alias(c) for c in my_data.columns])\n",
    "# data_agg.show()"
   ]
  },
  {
   "cell_type": "code",
   "execution_count": 15,
   "metadata": {},
   "outputs": [
    {
     "name": "stdout",
     "output_type": "stream",
     "text": [
      "+------------------+-----+\n",
      "|      Batsman_Name|count|\n",
      "+------------------+-----+\n",
      "|     Soumya Sarkar|   39|\n",
      "|  Mashrafe Mortaza|    5|\n",
      "|   Shakib Al Hasan|   75|\n",
      "|   Mushfiqur Rahim|   23|\n",
      "|Mohammad Saifuddin|   42|\n",
      "|         Liton Das|   24|\n",
      "|      Rishabh Pant|   43|\n",
      "|    Mohammed Shami|    2|\n",
      "|       Tamim Iqbal|   31|\n",
      "|     Hardik Pandya|    2|\n",
      "|          KL Rahul|   93|\n",
      "| Bhuvneshwar Kumar|    4|\n",
      "|     Rubel Hossain|   11|\n",
      "|      Rohit Sharma|   94|\n",
      "|    Dinesh Karthik|    9|\n",
      "|       Virat Kohli|   27|\n",
      "|          MS Dhoni|   33|\n",
      "|     Sabbir Rahman|   40|\n",
      "|  Mosaddek Hossain|    7|\n",
      "| Mustafizur Rahman|    1|\n",
      "+------------------+-----+\n",
      "\n"
     ]
    }
   ],
   "source": [
    "# value counts of Batsman_Name column\n",
    "my_data.groupBy('Batsman_Name').count().show()"
   ]
  },
  {
   "cell_type": "markdown",
   "metadata": {},
   "source": [
    "# Encode Categorical Variables using PySpark"
   ]
  },
  {
   "cell_type": "code",
   "execution_count": 21,
   "metadata": {},
   "outputs": [
    {
     "ename": "ImportError",
     "evalue": "cannot import name 'OneHotEncoderEstimator' from 'pyspark.ml.feature' (/Users/user/TENAC/pyspark-ml-pipeline/env/lib/python3.9/site-packages/pyspark/ml/feature.py)",
     "output_type": "error",
     "traceback": [
      "\u001b[0;31m---------------------------------------------------------------------------\u001b[0m",
      "\u001b[0;31mImportError\u001b[0m                               Traceback (most recent call last)",
      "Cell \u001b[0;32mIn[21], line 1\u001b[0m\n\u001b[0;32m----> 1\u001b[0m \u001b[39mfrom\u001b[39;00m \u001b[39mpyspark\u001b[39;00m\u001b[39m.\u001b[39;00m\u001b[39mml\u001b[39;00m\u001b[39m.\u001b[39;00m\u001b[39mfeature\u001b[39;00m \u001b[39mimport\u001b[39;00m StringIndexer, OneHotEncoderEstimator\n\u001b[1;32m      3\u001b[0m \u001b[39m# create object of StringIndexer class and specify input and output column\u001b[39;00m\n\u001b[1;32m      4\u001b[0m SI_batsman \u001b[39m=\u001b[39m StringIndexer(inputCol\u001b[39m=\u001b[39m\u001b[39m'\u001b[39m\u001b[39mBatsman_Name\u001b[39m\u001b[39m'\u001b[39m,outputCol\u001b[39m=\u001b[39m\u001b[39m'\u001b[39m\u001b[39mBatsman_Index\u001b[39m\u001b[39m'\u001b[39m)\n",
      "\u001b[0;31mImportError\u001b[0m: cannot import name 'OneHotEncoderEstimator' from 'pyspark.ml.feature' (/Users/user/TENAC/pyspark-ml-pipeline/env/lib/python3.9/site-packages/pyspark/ml/feature.py)"
     ]
    }
   ],
   "source": [
    "from pyspark.ml.feature import StringIndexer, OneHotEncoderEstimator\n",
    "\n",
    "# create object of StringIndexer class and specify input and output column\n",
    "SI_batsman = StringIndexer(inputCol='Batsman_Name',outputCol='Batsman_Index')\n",
    "SI_bowler = StringIndexer(inputCol='Bowler_Name',outputCol='Bowler_Index')\n",
    "\n",
    "# transform the data\n",
    "my_data = SI_batsman.fit(my_data).transform(my_data)\n",
    "my_data = SI_bowler.fit(my_data).transform(my_data)\n",
    "\n",
    "# view the transformed data\n",
    "my_data.select('Batsman_Name', 'Batsman_Index', 'Bowler_Name', 'Bowler_Index').show(10)"
   ]
  },
  {
   "cell_type": "code",
   "execution_count": null,
   "metadata": {},
   "outputs": [],
   "source": []
  }
 ],
 "metadata": {
  "kernelspec": {
   "display_name": "Python 3.9.7 ('env': venv)",
   "language": "python",
   "name": "python3"
  },
  "language_info": {
   "codemirror_mode": {
    "name": "ipython",
    "version": 3
   },
   "file_extension": ".py",
   "mimetype": "text/x-python",
   "name": "python",
   "nbconvert_exporter": "python",
   "pygments_lexer": "ipython3",
   "version": "3.9.7"
  },
  "orig_nbformat": 4,
  "vscode": {
   "interpreter": {
    "hash": "47ce7f2e3f9addda44a91f8224670304882c717032b5764d68d86e68e3129b7a"
   }
  }
 },
 "nbformat": 4,
 "nbformat_minor": 2
}
